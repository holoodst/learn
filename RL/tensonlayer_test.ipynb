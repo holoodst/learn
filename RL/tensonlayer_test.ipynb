{
 "cells": [
  {
   "cell_type": "code",
   "execution_count": null,
   "metadata": {},
   "outputs": [],
   "source": []
  },
  {
   "cell_type": "code",
   "execution_count": 1,
   "metadata": {},
   "outputs": [
    {
     "name": "stdout",
     "output_type": "stream",
     "text": [
      "[TL] Load or Download MNIST > data\\mnist\n",
      "[TL] data\\mnist\\train-images-idx3-ubyte.gz\n",
      "[TL] data\\mnist\\t10k-images-idx3-ubyte.gz\n"
     ]
    }
   ],
   "source": [
    "import pprint\n",
    "import time\n",
    "\n",
    "import numpy as np\n",
    "import tensorflow as tf\n",
    "\n",
    "import tensorlayer as tl\n",
    "from tensorlayer.layers import Dense, Dropout, Input\n",
    "from tensorlayer.models import Model\n",
    "\n",
    "## enable debug logging\n",
    "tl.logging.set_verbosity(tl.logging.DEBUG)\n",
    "\n",
    "## prepare MNIST data\n",
    "X_train, y_train, X_val, y_val, X_test, y_test = tl.files.load_mnist_dataset(shape=(-1, 784))"
   ]
  },
  {
   "cell_type": "code",
   "execution_count": 2,
   "metadata": {},
   "outputs": [
    {
     "name": "stdout",
     "output_type": "stream",
     "text": [
      "(50000,)\n",
      "(10000, 784)\n"
     ]
    },
    {
     "data": {
      "text/plain": [
       "array([[0., 0., 0., ..., 0., 0., 0.],\n",
       "       [0., 0., 0., ..., 0., 0., 0.],\n",
       "       [0., 0., 0., ..., 0., 0., 0.],\n",
       "       ...,\n",
       "       [0., 0., 0., ..., 0., 0., 0.],\n",
       "       [0., 0., 0., ..., 0., 0., 0.],\n",
       "       [0., 0., 0., ..., 0., 0., 0.]], dtype=float32)"
      ]
     },
     "execution_count": 2,
     "metadata": {},
     "output_type": "execute_result"
    }
   ],
   "source": [
    "pprint.pprint(y_train.shape)\n",
    "pprint.pprint(X_val.shape)\n",
    "X_train"
   ]
  },
  {
   "cell_type": "code",
   "execution_count": 20,
   "metadata": {},
   "outputs": [],
   "source": [
    "def get_model(inputs_shape):\n",
    "    ni = Input(inputs_shape)\n",
    "    nn = Dropout(keep=0.8)(ni)\n",
    "    nn = Dense(n_units=800, act=tf.nn.relu)(nn)\n",
    "    nn = Dropout(keep=0.8)(nn)\n",
    "    nn = Dense(n_units=800, act=tf.nn.relu)(nn)\n",
    "    nn = Dropout(keep=0.8)(nn)\n",
    "    nn = Dense(n_units=10, act=tf.nn.relu)(nn)\n",
    "    M = Model(inputs=ni, outputs=nn, name=\"mlp\")\n",
    "    return M"
   ]
  },
  {
   "cell_type": "code",
   "execution_count": 6,
   "metadata": {},
   "outputs": [
    {
     "name": "stdout",
     "output_type": "stream",
     "text": [
      "[TL] Input  _inputlayer_1: [None, 784]\n",
      "[TL] Dropout dropout_1: keep: 0.800000 \n",
      "[TL] Dense  dense_1: 800 relu\n",
      "[TL] Dropout dropout_2: keep: 0.800000 \n",
      "[TL] Dense  dense_2: 800 relu\n",
      "[TL] Dropout dropout_3: keep: 0.800000 \n",
      "[TL] Dense  dense_3: 10 relu\n"
     ]
    }
   ],
   "source": [
    "MLP = get_model([None, 784])\n",
    "\n"
   ]
  },
  {
   "cell_type": "code",
   "execution_count": 7,
   "metadata": {},
   "outputs": [
    {
     "name": "stdout",
     "output_type": "stream",
     "text": [
      "{'inputs': '_inputlayer_1_node_0',\n",
      " 'model_architecture': [{'args': {'dtype': 'tf.float32',\n",
      "                                  'layer_type': 'normal',\n",
      "                                  'name': '_inputlayer_1',\n",
      "                                  'shape': [None, 784]},\n",
      "                         'class': '_InputLayer',\n",
      "                         'prev_layer': None},\n",
      "                        {'args': {'keep': 0.8,\n",
      "                                  'layer_type': 'normal',\n",
      "                                  'name': 'dropout_1'},\n",
      "                         'class': 'Dropout',\n",
      "                         'prev_layer': ['_inputlayer_1_node_0']},\n",
      "                        {'args': {'act': 'relu',\n",
      "                                  'layer_type': 'normal',\n",
      "                                  'n_units': 800,\n",
      "                                  'name': 'dense_1'},\n",
      "                         'class': 'Dense',\n",
      "                         'prev_layer': ['dropout_1_node_0']},\n",
      "                        {'args': {'keep': 0.8,\n",
      "                                  'layer_type': 'normal',\n",
      "                                  'name': 'dropout_2'},\n",
      "                         'class': 'Dropout',\n",
      "                         'prev_layer': ['dense_1_node_0']},\n",
      "                        {'args': {'act': 'relu',\n",
      "                                  'layer_type': 'normal',\n",
      "                                  'n_units': 800,\n",
      "                                  'name': 'dense_2'},\n",
      "                         'class': 'Dense',\n",
      "                         'prev_layer': ['dropout_2_node_0']},\n",
      "                        {'args': {'keep': 0.8,\n",
      "                                  'layer_type': 'normal',\n",
      "                                  'name': 'dropout_3'},\n",
      "                         'class': 'Dropout',\n",
      "                         'prev_layer': ['dense_2_node_0']},\n",
      "                        {'args': {'act': 'relu',\n",
      "                                  'layer_type': 'normal',\n",
      "                                  'n_units': 10,\n",
      "                                  'name': 'dense_3'},\n",
      "                         'class': 'Dense',\n",
      "                         'prev_layer': ['dropout_3_node_0']}],\n",
      " 'name': 'mlp',\n",
      " 'outputs': 'dense_3_node_0',\n",
      " 'version_info': {'backend': 'tensorflow',\n",
      "                  'backend_version': '2.0.0',\n",
      "                  'save_date': None,\n",
      "                  'tensorlayer_version': '2.2.3',\n",
      "                  'training_device': 'gpu'}}\n"
     ]
    }
   ],
   "source": [
    "pprint.pprint(MLP.config)\n"
   ]
  },
  {
   "cell_type": "code",
   "execution_count": null,
   "metadata": {},
   "outputs": [],
   "source": []
  }
 ],
 "metadata": {
  "kernelspec": {
   "display_name": "Python 3",
   "language": "python",
   "name": "python3"
  },
  "language_info": {
   "codemirror_mode": {
    "name": "ipython",
    "version": 3
   },
   "file_extension": ".py",
   "mimetype": "text/x-python",
   "name": "python",
   "nbconvert_exporter": "python",
   "pygments_lexer": "ipython3",
   "version": "3.7.10"
  }
 },
 "nbformat": 4,
 "nbformat_minor": 2
}
